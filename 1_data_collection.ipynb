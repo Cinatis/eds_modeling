{
 "cells": [
  {
   "cell_type": "code",
   "id": "initial_id",
   "metadata": {
    "collapsed": true,
    "ExecuteTime": {
     "end_time": "2025-01-09T16:17:40.795278Z",
     "start_time": "2025-01-09T16:17:40.326819Z"
    }
   },
   "source": [
    "import pandas as pd\n",
    "import ast\n",
    "import requests"
   ],
   "outputs": [],
   "execution_count": 2
  },
  {
   "metadata": {
    "ExecuteTime": {
     "end_time": "2025-01-09T16:17:40.801785Z",
     "start_time": "2025-01-09T16:17:40.799096Z"
    }
   },
   "cell_type": "code",
   "source": "pd.set_option('display.max_rows', None)",
   "id": "a06419a3c1e33b8a",
   "outputs": [],
   "execution_count": 3
  },
  {
   "metadata": {
    "ExecuteTime": {
     "end_time": "2025-01-09T16:17:42.141770Z",
     "start_time": "2025-01-09T16:17:41.399965Z"
    }
   },
   "cell_type": "code",
   "source": [
    "# Read 4 different listings datasets\n",
    "df_march = pd.read_csv('data/input/listings_march.csv')\n",
    "df_june = pd.read_csv('data/input/listings_june.csv')\n",
    "df_september = pd.read_csv('data/input/listings_september.csv')\n",
    "df_december = pd.read_csv('data/input/listings_december.csv')"
   ],
   "id": "88417318fff28460",
   "outputs": [],
   "execution_count": 4
  },
  {
   "metadata": {
    "ExecuteTime": {
     "end_time": "2025-01-09T16:17:42.154915Z",
     "start_time": "2025-01-09T16:17:42.146278Z"
    }
   },
   "cell_type": "code",
   "source": [
    "# Combine data\n",
    "df = pd.concat([df_march, df_june, df_september, df_december])"
   ],
   "id": "31b38fcdb148e7f3",
   "outputs": [],
   "execution_count": 5
  },
  {
   "metadata": {
    "ExecuteTime": {
     "end_time": "2025-01-09T16:17:42.903616Z",
     "start_time": "2025-01-09T16:17:42.888794Z"
    }
   },
   "cell_type": "code",
   "source": [
    "# Drop duplicates keeping the latest scraped items for ids with duplicates\n",
    "df = df.sort_values(by=['id', 'last_scraped'], ascending=[True, False])\n",
    "df = df.drop_duplicates(subset='id', keep='first')"
   ],
   "id": "b825881f7d549372",
   "outputs": [],
   "execution_count": 7
  },
  {
   "metadata": {},
   "cell_type": "code",
   "outputs": [],
   "execution_count": null,
   "source": [
    "# Select meaningful columns\n",
    "df = df[[\"id\", \"last_scraped\", \"host_id\", \"host_since\", \"host_is_superhost\", \"neighbourhood_cleansed\", \"host_listings_count\", \"latitude\", \"longitude\", \"property_type\", \"room_type\", \"accommodates\", \"bathrooms\", \"bathrooms_text\", \"bedrooms\", \"beds\", \"amenities\", \"price\", \"number_of_reviews\", \"review_scores_rating\", \"review_scores_accuracy\", \"review_scores_cleanliness\", \"review_scores_checkin\", \"review_scores_communication\", \"review_scores_location\", \"instant_bookable\"]]"
   ],
   "id": "3664a53b1d1950a8"
  },
  {
   "metadata": {
    "ExecuteTime": {
     "end_time": "2025-01-09T16:17:43.179202Z",
     "start_time": "2025-01-09T16:17:43.158072Z"
    }
   },
   "cell_type": "code",
   "source": [
    "# Fill in null or empty values when it's possible\n",
    "df['host_is_superhost'] = df['host_is_superhost'].fillna('f')\n",
    "df['bedrooms'] = df['bedrooms'].fillna('1.0')\n",
    "df['beds'] = df['beds'].fillna('1.0')\n",
    "\n",
    "# For properties without reviews we will replace ratings with 0\n",
    "df['review_scores_rating'] = df['review_scores_rating'].fillna('0')\n",
    "df['review_scores_accuracy'] = df['review_scores_accuracy'].fillna('0')\n",
    "df['review_scores_checkin'] = df['review_scores_checkin'].fillna('0')\n",
    "df['review_scores_cleanliness'] = df['review_scores_cleanliness'].fillna('0')\n",
    "df['review_scores_communication'] = df['review_scores_communication'].fillna('0')\n",
    "df['review_scores_location'] = df['review_scores_location'].fillna('0')\n",
    "\n",
    "# Convert price to float\n",
    "df['price'] = df['price'].replace({'\\$': '', ',': ''}, regex=True).astype(float)"
   ],
   "id": "f2d83670305e3277",
   "outputs": [],
   "execution_count": 8
  },
  {
   "metadata": {
    "ExecuteTime": {
     "end_time": "2025-01-09T16:17:43.518436Z",
     "start_time": "2025-01-09T16:17:43.512599Z"
    }
   },
   "cell_type": "code",
   "source": [
    "# Drop rows when filling in empty values is not possible\n",
    "df = df.dropna(subset=['id', 'host_id', 'price'])"
   ],
   "id": "d61a8110071d2fc6",
   "outputs": [],
   "execution_count": 9
  },
  {
   "metadata": {
    "ExecuteTime": {
     "end_time": "2025-01-09T16:17:45.215005Z",
     "start_time": "2025-01-09T16:17:45.210290Z"
    }
   },
   "cell_type": "code",
   "source": [
    "# We end up with quite limited dataset\n",
    "df.shape"
   ],
   "id": "4d3824f988aeec41",
   "outputs": [
    {
     "data": {
      "text/plain": [
       "(7210, 26)"
      ]
     },
     "execution_count": 10,
     "metadata": {},
     "output_type": "execute_result"
    }
   ],
   "execution_count": 10
  },
  {
   "metadata": {
    "ExecuteTime": {
     "end_time": "2025-01-09T16:17:46.399245Z",
     "start_time": "2025-01-09T16:17:46.078380Z"
    }
   },
   "cell_type": "code",
   "source": [
    "# For set of meaningful amenties we add one-hot-encoded columns\n",
    "feature_list = [\n",
    "    \"Dishwasher\", \"Washer\", \"Dryer\", \"Microwave\", \"Freezer\", \"Private entrance\", \"Coffee maker\",\n",
    "    \"Oven\", \"Outdoor dining area\", \"Private patio or balcony\", \"Luggage dropoff allowed\", \"Bathtub\",\n",
    "    \"Blender\", \"Paid parking on premises\", \"Air conditioning\", \"Waterfront\", \"Pets allowed\",\n",
    "    \"Canal view\", \"Free parking on premises\", \"Bikes\", \"Safe\"\n",
    "]\n",
    "\n",
    "df['parsed_amenities'] = df['amenities'].apply(ast.literal_eval)\n",
    "\n",
    "for feature in feature_list:\n",
    "    df[feature] = df['parsed_amenities'].apply(lambda x: 1 if feature in x else 0)\n",
    "\n",
    "df.drop('parsed_amenities', axis=1, inplace=True)"
   ],
   "id": "fb6813e0b9e88a74",
   "outputs": [],
   "execution_count": 11
  },
  {
   "metadata": {
    "ExecuteTime": {
     "end_time": "2025-01-09T16:17:50.580001Z",
     "start_time": "2025-01-09T16:17:50.575591Z"
    }
   },
   "cell_type": "code",
   "source": [
    "# Unfortunately neighbourhoods in this dataset do not match neighbourhoods in gemeente dataset\n",
    "# So we will use postcode instead\n",
    "df['neighbourhood_cleansed'].unique()"
   ],
   "id": "2458b6831f6e065d",
   "outputs": [
    {
     "data": {
      "text/plain": [
       "array(['Oostelijk Havengebied - Indische Buurt', 'Centrum-Oost',\n",
       "       'Centrum-West', 'Bos en Lommer', 'Zuid', 'Oud-Oost',\n",
       "       'De Pijp - Rivierenbuurt', 'Slotervaart', 'Noord-Oost',\n",
       "       'De Baarsjes - Oud-West', 'Westerpark', 'Buitenveldert - Zuidas',\n",
       "       'Watergraafsmeer', 'Oud-Noord', 'Noord-West',\n",
       "       'Geuzenveld - Slotermeer', 'IJburg - Zeeburgereiland',\n",
       "       'De Aker - Nieuw Sloten', 'Osdorp', 'Bijlmer-Centrum',\n",
       "       'Gaasperdam - Driemond', 'Bijlmer-Oost'], dtype=object)"
      ]
     },
     "execution_count": 13,
     "metadata": {},
     "output_type": "execute_result"
    }
   ],
   "execution_count": 13
  },
  {
   "metadata": {
    "ExecuteTime": {
     "end_time": "2025-01-09T16:57:09.147796Z",
     "start_time": "2025-01-09T16:57:09.144616Z"
    }
   },
   "cell_type": "code",
   "source": [
    "# Convert lat long to postcode\n",
    "def get_geocode_result(lat, lon):\n",
    "    url = f\"https://maps.googleapis.com/maps/api/geocode/json?latlng={lat},{lon}&key=<api_key>\"\n",
    "    response = requests.get(url)\n",
    "\n",
    "    if response.status_code == 200:\n",
    "        result = response.json()\n",
    "        if result['status'] == 'OK':\n",
    "            for component in result['results'][0]['address_components']:\n",
    "                if 'postal_code' in component['types']:\n",
    "                    return component['long_name']\n",
    "    return None"
   ],
   "id": "6fb1987c0af3754b",
   "outputs": [],
   "execution_count": 51
  },
  {
   "metadata": {},
   "cell_type": "code",
   "source": [
    "# Apply the function to each row\n",
    "df['geocode_result'] = df.apply(lambda row: get_geocode_result(row['latitude'], row['longitude']), axis=1)\n",
    "df['postcode'] = df['geocode_result'].str.extract('(\\d+)').astype('string')"
   ],
   "id": "704e9259db916916",
   "outputs": [],
   "execution_count": null
  },
  {
   "metadata": {},
   "cell_type": "code",
   "outputs": [],
   "execution_count": null,
   "source": [
    "# Read postcode data from gemeente\n",
    "postcodes = pd.read_csv('data/input/postcodes.csv')\n",
    "postcodes['postcode'] = postcodes['postcode'].astype('string')"
   ],
   "id": "979f46ae60c786ce"
  },
  {
   "metadata": {},
   "cell_type": "code",
   "outputs": [],
   "execution_count": null,
   "source": [
    "# Join airbnb data with gemeente data on postcode\n",
    "result = pd.merge(df, postcodes, on='postcode', how='inner')"
   ],
   "id": "c53879f9ebd06688"
  },
  {
   "metadata": {},
   "cell_type": "code",
   "outputs": [],
   "execution_count": null,
   "source": [
    "# Save data to CSV\n",
    "result.to_csv('./data/output/result.csv', index=False)"
   ],
   "id": "c77e9a8cbbbc51a4"
  }
 ],
 "metadata": {
  "kernelspec": {
   "display_name": "Python 3",
   "language": "python",
   "name": "python3"
  },
  "language_info": {
   "codemirror_mode": {
    "name": "ipython",
    "version": 2
   },
   "file_extension": ".py",
   "mimetype": "text/x-python",
   "name": "python",
   "nbconvert_exporter": "python",
   "pygments_lexer": "ipython2",
   "version": "2.7.6"
  }
 },
 "nbformat": 4,
 "nbformat_minor": 5
}
